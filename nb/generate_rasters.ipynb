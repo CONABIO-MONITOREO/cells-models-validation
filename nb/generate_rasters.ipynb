{
 "cells": [
  {
   "cell_type": "code",
   "execution_count": 2,
   "id": "e10c778e-b70e-4454-9cef-c1be95b34dcb",
   "metadata": {},
   "outputs": [],
   "source": [
    "import os\n",
    "import psycopg2\n",
    "from dotenv import load_dotenv\n",
    "import geopandas as gpd\n",
    "import json\n",
    "from shapely.geometry import Polygon\n",
    "from rasterio.transform import from_origin\n",
    "import numpy as np\n",
    "import rasterio\n",
    "from rasterio.enums import Resampling\n",
    "from matplotlib import pyplot as plt"
   ]
  },
  {
   "cell_type": "code",
   "execution_count": 3,
   "id": "dc0e96f6-1a21-4ea9-9b1f-1afd896570f4",
   "metadata": {},
   "outputs": [],
   "source": [
    "load_dotenv()\n",
    "\n",
    "dbname = os.getenv('POSTGRES_DB')\n",
    "dbuser = os.getenv('POSTGRES_USER')\n",
    "dbpass = os.getenv('POSTGRES_PASSWORD')\n",
    "dbhost = os.getenv('POSTGRES_HOST')\n",
    "dbport = os.getenv('POSTGRES_PORT')"
   ]
  },
  {
   "cell_type": "code",
   "execution_count": 4,
   "id": "085bcb70-1ba8-4baf-b5a1-e4ce45d6cbc1",
   "metadata": {},
   "outputs": [
    {
     "data": {
      "text/plain": [
       "'localhost'"
      ]
     },
     "execution_count": 4,
     "metadata": {},
     "output_type": "execute_result"
    }
   ],
   "source": [
    "dbhost"
   ]
  },
  {
   "cell_type": "code",
   "execution_count": 5,
   "id": "7e1bb967-9b72-4757-8461-11189a8b146e",
   "metadata": {},
   "outputs": [],
   "source": [
    "users = []\n",
    "conn = psycopg2.connect(f'dbname={dbname} user={dbuser} password={dbpass} host={dbhost} port={dbport}')\n",
    "try:\n",
    "    cur = conn.cursor()\n",
    "    cur.execute('SELECT u.id, u.username, a.id_anp FROM \"user\" as u JOIN user_anp_relations as a ON u.id=a.id_user WHERE u.id > 2')\n",
    "    users = cur.fetchall()\n",
    "    cur = conn.close()\n",
    "except Exception as e:\n",
    "    print(str(e))\n",
    "finally:\n",
    "    conn.close()"
   ]
  },
  {
   "cell_type": "code",
   "execution_count": 6,
   "id": "a3be50fd-0198-42ac-bf26-d24eaa6d14c3",
   "metadata": {},
   "outputs": [
    {
     "data": {
      "text/plain": [
       "[(3, 'gina.castillo@conanp.gob.mx', 145),\n",
       " (4, 'santiago.vazquez@undp.org', 145),\n",
       " (5, 'francisco.gaytan@undp.org', 145),\n",
       " (6, 'salvador.ramirez@undp.org', 145),\n",
       " (7, 'antonio.soto@conanp.gob.mx', 43),\n",
       " (3, 'gina.castillo@conanp.gob.mx', 43),\n",
       " (4, 'santiago.vazquez@undp.org', 43),\n",
       " (8, 'culminatus1@gmail.com', 43),\n",
       " (9, 'portillo@conanp.gob.mx', 57),\n",
       " (3, 'gina.castillo@conanp.gob.mx', 57)]"
      ]
     },
     "execution_count": 6,
     "metadata": {},
     "output_type": "execute_result"
    }
   ],
   "source": [
    "users[:10]"
   ]
  },
  {
   "cell_type": "code",
   "execution_count": 7,
   "id": "fa700ac5-bd06-42b9-ac36-f6125163c1b1",
   "metadata": {},
   "outputs": [],
   "source": [
    "def get_utm_zone(longitude):\n",
    "    return int((longitude + 180) / 6) + 1"
   ]
  },
  {
   "cell_type": "code",
   "execution_count": 8,
   "id": "0d8e8a67-610b-4b93-b4de-cb64eb1ca7b3",
   "metadata": {},
   "outputs": [
    {
     "name": "stdout",
     "output_type": "stream",
     "text": [
      "id_user = 5 , id_anp = 145\n",
      "   id_cell  colour                                           geometry\n",
      "0  4747308       3  POLYGON ((-99.909 16.875, -99.909 16.884, -99....\n",
      "1  4738184       3  POLYGON ((-99.945 16.875, -99.945 16.884, -99....\n",
      "2  4738185       3  POLYGON ((-99.945 16.884, -99.945 16.893, -99....\n",
      "3  4738186       2  POLYGON ((-99.945 16.893, -99.945 16.902, -99....\n",
      "4  4738187       2  POLYGON ((-99.945 16.902, -99.945 16.911, -99....\n",
      "-99.945 16.812 -99.828 16.929\n",
      "width = 13 , height = 13\n",
      "id_user = 5 , id_anp = 145\n",
      "id_user = 5 , id_anp = 145\n"
     ]
    },
    {
     "name": "stderr",
     "output_type": "stream",
     "text": [
      "/var/folders/30/rk24rxs9671c098_6t2mp6v00000gn/T/ipykernel_26582/106239640.py:9: UserWarning: Geometry column does not contain geometry.\n",
      "  colou_gdf['geometry'] = colou_gdf['geometry'].apply(lambda x: json.loads(x))\n"
     ]
    }
   ],
   "source": [
    "conn = psycopg2.connect(f'dbname={dbname} user={dbuser} password={dbpass} host={dbhost} port={dbport}')\n",
    "cur = conn.cursor()\n",
    "try:\n",
    "    for t in users:\n",
    "        cur.execute(f'SELECT c.id_cell, c.id_colour, st_asgeojson(g.geom) as geom FROM colouration as c JOIN grid_1km as g ON c.id_cell=g.id WHERE c.id_user = {t[0]} and c.id_anp = {t[2]}')\n",
    "        coulored_cells = cur.fetchall()\n",
    "        if len(coulored_cells) > 0:\n",
    "            colou_gdf = gpd.GeoDataFrame(coulored_cells, columns = ['id_cell', 'colour', 'geometry'])\n",
    "            colou_gdf['geometry'] = colou_gdf['geometry'].apply(lambda x: json.loads(x))       \n",
    "            colou_gdf['geometry'] = colou_gdf['geometry'].apply(lambda x: Polygon(x['coordinates'][0]))\n",
    "            colou_gdf = colou_gdf.set_geometry('geometry')\n",
    "            colou_gdf = colou_gdf.set_crs(epsg=4326)\n",
    "\n",
    "            #centroid = colou_gdf.geometry.centroid.iloc[0]\n",
    "            #utm_zone = get_utm_zone(centroid.x)\n",
    "            #utm_crs = f'epsg:326{utm_zone:02d}' if centroid.y >= 0 else f'epsg:327{utm_zone:02d}'\n",
    "\n",
    "            #colou_gdf = colou_gdf.to_crs(utm_crs)\n",
    "            \n",
    "            print('id_user =', t[0], ', id_anp =', t[2])\n",
    "            print(colou_gdf.head())\n",
    "            \n",
    "            #resolution = 1000\n",
    "            resolution = 0.009\n",
    "            minx, miny, maxx, maxy = colou_gdf.total_bounds\n",
    "            print(minx, miny, maxx, maxy)\n",
    "            width = int((maxx - minx) / resolution) + 1\n",
    "            height = int((maxy - miny) / resolution) +1\n",
    "            transform = from_origin(minx, maxy, resolution, resolution)\n",
    "            \n",
    "            print('width =', width, ', height =', height)\n",
    "            \n",
    "            raster = np.zeros((height, width), dtype=np.uint8)\n",
    "            for index, row in colou_gdf.iterrows():\n",
    "                geom = row.geometry\n",
    "                color = row['colour']\n",
    "                for x, y in geom.exterior.coords:\n",
    "                    col = int((x - minx) / resolution)\n",
    "                    row = int((maxy - y) / resolution)\n",
    "                    #print(col,row)\n",
    "                    raster[row, col] = color\n",
    "                    if 0 <= row < height and 0 <= col < width:\n",
    "                        raster[row, col] = color\n",
    "                    \n",
    "            print('id_user =', t[0], ', id_anp =', t[2])\n",
    "            \n",
    "            with rasterio.open(\n",
    "                f'output_raster_{t[0]}_{t[2]}.tif',\n",
    "                'w',\n",
    "                driver='GTiff',\n",
    "                height=raster.shape[0],\n",
    "                width=raster.shape[1],\n",
    "                count=1,\n",
    "                dtype=raster.dtype,\n",
    "                crs=colou_gdf.crs,\n",
    "                transform=transform,\n",
    "            ) as dst:\n",
    "                dst.write(raster, 1)\n",
    "            print('id_user =', t[0], ', id_anp =', t[2])\n",
    "            break\n",
    "except Exception as e:\n",
    "    print(str(e))\n",
    "finally:\n",
    "    cur = conn.close()\n",
    "    conn.close()"
   ]
  },
  {
   "cell_type": "code",
   "execution_count": 9,
   "id": "2d23400d-ff6a-4ec6-8f0d-8cecd766bcb4",
   "metadata": {},
   "outputs": [
    {
     "name": "stdout",
     "output_type": "stream",
     "text": [
      "Valores únicos del raster: [0 2 3]\n",
      "EPSG del raster: 4326\n"
     ]
    },
    {
     "data": {
      "image/png": "[encoded data removed]",
      "text/plain": [
       "<Figure size 640x480 with 2 Axes>"
      ]
     },
     "metadata": {},
     "output_type": "display_data"
    }
   ],
   "source": [
    "raster_file = 'output_raster_5_145.tif'\n",
    "\n",
    "with rasterio.open(raster_file) as src:\n",
    "    raster = src.read(1)\n",
    "\n",
    "    # Mostrar el raster usando matplotlib\n",
    "    plt.imshow(raster, cmap='cividis')\n",
    "    plt.colorbar()\n",
    "    plt.title('Raster Visualization')\n",
    "    plt.xlabel('Column Number')\n",
    "    plt.ylabel('Row Number')\n",
    "    crs = src.crs\n",
    "    epsg = crs.to_epsg()\n",
    "    \n",
    "    unique_values = np.unique(raster)\n",
    "\n",
    "    print(f'Valores únicos del raster: {unique_values}')\n",
    "    print(f'EPSG del raster: {epsg}')\n",
    "    \n",
    "    plt.show()\n"
   ]
  },
  {
   "cell_type": "code",
   "execution_count": null,
   "id": "e33ed29f-fd1b-4862-819e-5a78e359b035",
   "metadata": {},
   "outputs": [],
   "source": []
  }
 ],
 "metadata": {
  "kernelspec": {
   "display_name": "Python 3 (ipykernel)",
   "language": "python",
   "name": "python3"
  },
  "language_info": {
   "codemirror_mode": {
    "name": "ipython",
    "version": 3
   },
   "file_extension": ".py",
   "mimetype": "text/x-python",
   "name": "python",
   "nbconvert_exporter": "python",
   "pygments_lexer": "ipython3",
   "version": "3.10.14"
  }
 },
 "nbformat": 4,
 "nbformat_minor": 5
}
